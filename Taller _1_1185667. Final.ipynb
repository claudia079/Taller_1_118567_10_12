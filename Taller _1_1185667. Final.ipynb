{
 "cells": [
  {
   "cell_type": "markdown",
   "metadata": {},
   "source": [
    "DECISIONES Y CICLOS\n"
   ]
  },
  {
   "cell_type": "raw",
   "metadata": {},
   "source": [
    "#%% Ejercicio 1 Sin utilizar el comando abs, escribir un programa que calcule \n",
    "#e imprima el valor absoluto de cualquier número (sea entero o decimal)."
   ]
  },
  {
   "cell_type": "code",
   "execution_count": null,
   "metadata": {},
   "outputs": [],
   "source": [
    "numero = float(input('favor ingresar un numero = '))\n",
    " # float, para decimal y enteros, Se Pide el numero a calcular su valor abs\n",
    "absolute_val = (numero ** 2) ** 0.5# cuadradado de todo num es el abs del num\n",
    "print('valor absoluto del numero ingresado es :',absolute_val )"
   ]
  },
  {
   "cell_type": "raw",
   "metadata": {},
   "source": [
    "#%% Ejercicio 2 Leer un número entero y escribirlo en reversa."
   ]
  },
  {
   "cell_type": "code",
   "execution_count": null,
   "metadata": {},
   "outputs": [],
   "source": [
    "z=0 # guarda las últimas cifras\n",
    "y=0 # ultima cifra de cada proceso\n",
    "x = int(input('ingrese un numero :'))\n",
    "while x > 0:# mientras sea x mayor a cero hacer:\n",
    "   y=x%10 # con modulo_última cifra del #\n",
    "   z=(z*10)+y # ultima cifra* 10 + la siguiente ultima cifra\n",
    "   x=int(x/10)# se toma solo la parte entera dela divición\n",
    "print('El inverso del número ingresado es:', z)"
   ]
  },
  {
   "cell_type": "raw",
   "metadata": {},
   "source": [
    "#%% Ejercicio 3 Leer un número entero de 3 dígitos y determinar si contiene el dígito 8"
   ]
  },
  {
   "cell_type": "code",
   "execution_count": null,
   "metadata": {},
   "outputs": [],
   "source": [
    "m = 0  # bandera\n",
    "n= int(input('Fvor ingresar un número de tres digitos:')) # se pide el num\n",
    "# entero a verificar\n",
    "if n >=-1000 and n<=1000 : # verifica que el # entero tenga tres cifras\n",
    "   if n < 0 :\n",
    "       n=n*-1 # se toma al abs del #\n",
    "  \n",
    "   while n>0: # hacer mientras el # sea mayor a cero\n",
    "       if n%10 == 8:                   #tomomos ultimo digito y comparo si es 8\n",
    "           m=1                         # si encuentra un 8 levanta la bandera\n",
    "       n= int(n/10)                    # valor de x despues del ultimo digito\n",
    "   if m==1 :   # pregunto si la bandera esta levantada  # si se encuentra decir:                    \n",
    "       print('El número contiene el 8')  \n",
    "\n",
    "   else : # si no es asi decir:\n",
    "       print('El número no contiene el 8')      \n",
    "      \n",
    "else:\n",
    "   print('El Número es invalido '"
   ]
  },
  {
   "cell_type": "raw",
   "metadata": {},
   "source": [
    "#%% Ejercicio 4 Leer un número entero positivo y determinar la suma de sus dígitos pares."
   ]
  },
  {
   "cell_type": "code",
   "execution_count": null,
   "metadata": {},
   "outputs": [],
   "source": [
    "sum=0 # cifras pares\n",
    "num=int(input(\"Favor ingresar un numero = \"))# se pide el num entero\n",
    "while(num>1): # hacer mientras el # sea mayor a cero \n",
    "    digito=int(num%10) # evalua última digito entero\n",
    "    num=num/10 #se toma solo la parte entera dela divición\n",
    "    if(digito%2==0): # si es par, el reciduo al dividir en  2 sera cero\n",
    "        sum=sum+digito # suma de los num pares encontrados\n",
    "print('la suma de los numeros pares es = ',sum"
   ]
  },
  {
   "cell_type": "raw",
   "metadata": {},
   "source": [
    "#%% Ejercicio 5  Leer un número entero y determinar el # de 5s que están consecutivos en un número"
   ]
  },
  {
   "cell_type": "code",
   "execution_count": null,
   "metadata": {},
   "outputs": [],
   "source": [
    "c = 0  # contador \n",
    "b=0 #bandera\n",
    "t=0 # temporal\n",
    "num = int(input('Favor ingresar un número:')) # se pide el num         \n",
    "\n",
    "while num>0: # hacer mientras el # sea mayor a cero \n",
    "    if (num%10 == 5) :    #tomomos ultimo digito y comparo si es 5\n",
    "        c= c+1              # si encuentra un 5 guardarlo\n",
    "        b=1\n",
    "        if c>t:\n",
    "            t=c\n",
    "    else :\n",
    "        b=0\n",
    "        c=0\n",
    "    num= int(num/10)  # valor de x despues del ultimo digito \n",
    "\n",
    "print('este número contiene',t ,'cincos concecutivos'"
   ]
  },
  {
   "cell_type": "raw",
   "metadata": {},
   "source": [
    "#%% Ejercicio 6 Leer un número entero y determinar si la suma de sus dígitos es un número de Fibonacci."
   ]
  },
  {
   "cell_type": "code",
   "execution_count": null,
   "metadata": {},
   "outputs": [],
   "source": [
    "c=0\n",
    "s=0\n",
    "x = int(input('Favor Ingresar un número'))\n",
    "cadena=[];  # para calcular la sucecion de Fibonacci.\n",
    "for i in range(1,x+1):\n",
    "    if i==1 or i==2:\n",
    "        cadena.append(1)\n",
    "    else :\n",
    "        cadena.append(cadena[i-2] + cadena[i-3])\n",
    "                 \n",
    "while x>0:    # ciclo que me va a sumar los digitos del numero ingresado\n",
    "    y=(x%10)\n",
    "    c=c+y\n",
    "    x=int(x/10)\n",
    "print('la suma de los digitos de su numero es',c)\n",
    "\n",
    "if c in cadena : # pribar si la suma de los digitos del numero ingresao si \n",
    "    # esta en la sucecion\n",
    "    print(c,'está en la suceción ')\n",
    "else:\n",
    "    print(c,'no está en la suceción')"
   ]
  },
  {
   "cell_type": "raw",
   "metadata": {},
   "source": [
    "#%% Ejercicio 7 Leer un número entero positivo y determine si existen en el número dígitos repetidos. Reporte cuales son los dígitos repetidos."
   ]
  },
  {
   "cell_type": "code",
   "execution_count": null,
   "metadata": {},
   "outputs": [],
   "source": [
    "cadena=[]\n",
    "c=0   # contador \n",
    "x = int(input('Favor ingresar un numero: '))\n",
    "z=x # duplicado \n",
    "while x>0:   # ciclo que me recorre el numero ingresado\n",
    "    w=(x%10) #  seleciona el ultimo digito ingresado \n",
    "    y=z #   reinicia el duplicado\n",
    "    while y>0: # ciclo que verofica el ultimo digito ingresado con cada digito\n",
    "        #del duplicado\n",
    "        if w ==(y%10): \n",
    "            c=c+1# si encuentra una coincidencia aumenta el contador\n",
    "        y=int(y/10) # siguiente digito del duplicado\n",
    "    if c>1: #si elcontador es mayor a 1 implica qur hay un digito repetido \n",
    "      \n",
    "        if w not in cadena: # si el digito es repetido verifica si no a sido\n",
    "            #tenido encuenta\n",
    "            cadena.append(w)# si no a sido tenido en cuenta se agrega a la lista \n",
    "    c=0 # iniciar el contador \n",
    "    x= int(x/10) # va reduciendo el numero ingresado\n",
    "print('digitos repetidos:',cadena) # resultad"
   ]
  },
  {
   "cell_type": "raw",
   "metadata": {},
   "source": [
    "#%% Ejercicio 8 Iterar a través de los primeros cien enteros positivos, buscando los múltiplos de 3 e imprimiendo y almacenándolos en una lista hasta encontrar los primeros 15 de ellos. Una vez encontrados, \n",
    "continuar iterando en busca de los múltiplos de 4 y almacenarlos en otra lista"
   ]
  },
  {
   "cell_type": "code",
   "execution_count": null,
   "metadata": {},
   "outputs": [],
   "source": [
    "def multiplo(valor, multiplo):#Funcion para calcular si el numero es multiplo\n",
    "   # utilizando el modulo de la division\n",
    "    resto = valor % multiplo  # funcion para caucular el multiplo\n",
    "    if resto == 0:\n",
    "        return True\n",
    "    else:\n",
    "        return False\n",
    " \n",
    "\n",
    "multiplos_3=[]  # lista que contendra los valores multiplos\n",
    "multiplos_4=[]\n",
    " \n",
    "\n",
    "for i in range(0,45): # bucle del 0 al 100\n",
    " \n",
    "    if multiplo(i,3):\n",
    "        multiplos_3.append(i)# guarda los multiplos de 3\n",
    "for i in range(45,100):\n",
    "    if multiplo(i,4): \n",
    "        multiplos_4.append(i)# guarda los multiplos de 4\n",
    " \n",
    "print (\"Los multiplos de 3 son:\", multiplos_3)\n",
    "print (\"\")\n",
    "print (\"Los multiplos de 4 son:\", multiplos_4)\n",
    "\n",
    "print('fin del ejercicio')"
   ]
  },
  {
   "cell_type": "raw",
   "metadata": {},
   "source": [
    "#%% Ejercicio 9 Hacer un programa que lea las coordenadas (x1,y1,r1) y (x2,y2,r2)\n",
    "# que corresponden al centro y al radio de dos círculos.\n",
    "#Lea un punto de coordenadas (a,b). Determina si (a,b) está contenido: \n",
    "#a) dentro del círculo 1; b) dentro del círculo 2;c) dentro de ambos círculos; \n",
    "#d) fuera de ambos círculos. Recordemos que el círculo es el lugar geométrico de los puntos\n",
    "#del plano cuya distancia a otro punto fijo, llamado centro, es menor o igual que una cantidad constante, llamada radio"
   ]
  },
  {
   "cell_type": "code",
   "execution_count": null,
   "metadata": {},
   "outputs": [],
   "source": [
    "import math\n",
    "x_1 = int(input('ingrese la coordena de en x_1 : '))\n",
    "y_1 = int(input('ingrese la coordena de en y_1 : '))\n",
    "r_1 = int(input('ingrese la magnitud del raadio_1 :'))\n",
    "\n",
    "x_2 = int(input('ingrese la coordena de en x_2 : '))\n",
    "y_2 =  int(input('ingrese la coordena de en y_2 : '))\n",
    "r_2 =  int(input('ingrese la magnitud del radio_2 :'))\n",
    "\n",
    "a = int(input('ingrese cordenada a '))\n",
    "b = int(input('ingrese cordenada b '))\n",
    "\n",
    "d =  math.sqrt(((x_1-a)*(x_1-a))+(y_1-b)*(y_1-b))\n",
    "\n",
    "if ((d < r_1) and (d < r_2)):\n",
    "    print('las coordenadas ingresadas estan contenidass en la circunferencia')\n",
    "elif((d>r_1) and (d<r_2)):\n",
    "    print('esta contenido en circulo2')\n",
    "elif ((d < r_1) and (d > r_2)):\n",
    "    print('esta contenido en circulo1')\n",
    "elif ((d > r_1)and(d > r_2)):\n",
    "    print(' no estan contenidass en la circunferencia')\n",
    "print ('terminado')"
   ]
  },
  {
   "cell_type": "raw",
   "metadata": {},
   "source": [
    "CADENAS\n",
    "# -*- coding: utf-8 -*-\n",
    "# -*- coding: utf-8 -*-\n",
    "#-*- coding: 850 -*- # CARACTERES"
   ]
  },
  {
   "cell_type": "raw",
   "metadata": {},
   "source": [
    "#%% EJERCICIO 10\n",
    "\n",
    "#Sin utilizar el método .upper() para cadenas, escribir\n",
    "#un programa que lea una cadena de texto y la imprima en mayúsculas\n",
    "#el programa debe aceptar las letras con tilde, la ñ y la ü"
   ]
  },
  {
   "cell_type": "code",
   "execution_count": null,
   "metadata": {},
   "outputs": [],
   "source": [
    "# -*- coding: utf-8 -*-\n",
    "#-*- coding: 850 -*- # CARACTERES\n",
    "a=input('Favor escribir la cadena de texto: ')# pide cadena de texto\n",
    "m=['a','á','b','c','d','e','é','f','g','h','i','í','j','k','l','m','n','ñ',\\\n",
    "  'o','ó','p','q','r','s','t','u','ú','ü','v','w','x','y','z','¿','?']\n",
    "  # abc en minúsculas\n",
    "M=['A','Á','B','C','D','E','É','F','G','H','I','Í','J','K','L','M','N','Ñ',\\\n",
    "  'O','Ó','P','Q','R','S','T','U','Ú','Ü','V','W','X','Y','Z','¿','?']\n",
    "# abc en mayúsculas\n",
    "s=[] # nueva lista donde se llenaran las letras minusculas a mayusculas\n",
    "for i in range(len(a)): # ciclo que me va a cambiar las l_minus. a l_mayu.\n",
    "   if a[i]==' ':\n",
    "       s.append(' ')\n",
    "   else:\n",
    "       for j in range(len(m)):\n",
    "           if a[i]==m[j]:\n",
    "               s.append(M[j])\n",
    "print(\"El texto en mayúsculas es\",\" \".join(s))# Imprime resultado"
   ]
  },
  {
   "cell_type": "raw",
   "metadata": {},
   "source": [
    "#%%EJERCICIO 11\n",
    "#Escribir un programa que reciba una cadena de texto y reporte:\n",
    "#a) cuántas letras vocales en mayúscula se entraron;\n",
    "#b) cuántas letras con tilde se entraron (minúsculas y mayúsculas);\n",
    "#c) cuántos dígitos se entraron,\n",
    "#d) cuántos espacios se entraron;\n",
    "#e) cuántas palabras reservadas se entraro"
   ]
  },
  {
   "cell_type": "code",
   "execution_count": null,
   "metadata": {},
   "outputs": [],
   "source": [
    "# -*- coding: utf-8 -*-\n",
    "#-*- coding: 850 -*- # CARACTERES\n",
    "import keyword\n",
    "texto= input(\"Favor escriba la cadena de texto: \")\n",
    "M=\"AEIOUÁÉÍÓÚ\"\n",
    "S1=[]\n",
    "for i in range(0, len(texto)):\n",
    "   if texto[i] in M:\n",
    "       S1.append(texto[i])\n",
    "print (\"tiene\", len(S1),\"vocales mayusculas\")\n",
    "\n",
    "MT=\"ÁÉÍÓÚáéíóú\"\n",
    "S2=[]\n",
    "for i in range(0, len(texto)):\n",
    "   if texto[i] in MT:\n",
    "       S2.append(texto[i])\n",
    "print (\"tiene\", len(S2),\"vocales con tilde\")\n",
    "\n",
    "num=\"0123456789\"\n",
    "S3=[]\n",
    "for i in range(0, len(texto)):\n",
    "   if texto[i] in num:\n",
    "       S3.append(texto[i])\n",
    "print (\"tiene\", len(S3),\"digitos\")\n",
    "\n",
    "\n",
    "espacio= \" \"\n",
    "S4=[]\n",
    "for i in range(0, len(texto)):\n",
    "   if texto[i] in espacio:\n",
    "       S4.append(texto[i])\n",
    "print (\"tiene\", len(S4),\"espacios\")\n",
    "\n",
    "S5=texto.split()\n",
    "S6=[]\n",
    "for i in range(0, len(S5)):\n",
    "   if [i] in keyword.kwlist:\n",
    "       S6.append(S5[i])\n",
    "print (\"son keywords contenidas en la palabra digitada\", S6)# faltan la letras reservadas"
   ]
  },
  {
   "cell_type": "raw",
   "metadata": {},
   "source": [
    "#%% Ejercicio 12. Hacer un programa que lea dos palabras (podrían estar en mayúscula \n",
    "# o minúscula) y determine cuál está primero en el diccionario."
   ]
  },
  {
   "cell_type": "code",
   "execution_count": null,
   "metadata": {},
   "outputs": [],
   "source": [
    "\n",
    "\n",
    "pal1=(input(\"Favor ingrese palabra 1: \")).lower()# se pide la pala1\n",
    "pal2=(input(\"Favor ingrese palabra 2: \")).lower()# se pide la pala2\n",
    "\n",
    "pal1_cop=\"\"# almacena la pala1\n",
    "pal2_cop=\"\"# almacena la pala2\n",
    "\n",
    "pal_mayor= \"\"#almacena pala.mayor\n",
    "espacios = 0\n",
    "\n",
    "if len(pal1) > len(pal2):#\n",
    "   len_mayor=len(pal1)\n",
    "   espacios = len(pal1) - len(pal2)\n",
    "   pal2 += \" \" * espacios\n",
    "else:\n",
    "   len_mayor = len(pal2) #\n",
    "   espacios = len(pal2) - len(pal1)\n",
    "   pal1+= \" \" * espacios\n",
    "  \n",
    "for i in pal1:\n",
    "   if 97<= ord(i) <=122:\n",
    "       pal1_cop += i\n",
    "   elif i in \"á\":\n",
    "       pal1_cop += \"a\"\n",
    "   elif i in \"é\":\n",
    "       pal1_cop += \"e\"\n",
    "   elif i in \"í\":\n",
    "       pal1_cop += \"i\"\n",
    "   elif i in \"ó\":\n",
    "       pal1_cop += \"o\"\n",
    "   elif i in \"ú\":\n",
    "       pal1_cop += \"u\"\n",
    "   elif i in \"ñ\":\n",
    "       pal1_cop += \"ñ\"\n",
    "   else:\n",
    "       pal1_cop += i\n",
    "      \n",
    "for i in pal2:\n",
    "  \n",
    "   if 97<= ord(i) <=122:\n",
    "       pal2_cop += i\n",
    "   elif i in \"á\":\n",
    "       pal2_cop += \"a\"\n",
    "   elif i in \"é\":\n",
    "       pal2_cop += \"e\"\n",
    "   elif i in \"í\":\n",
    "       pal2_cop += \"i\"\n",
    "   elif i in \"ó\":\n",
    "       pal2_cop += \"o\"\n",
    "   elif i in \"ú\":\n",
    "       pal2_cop += \"u\"\n",
    "   elif i in \"ñ\":\n",
    "       pal2_cop += \"ñ\"\n",
    "   else:\n",
    "       pal2_cop += i\n",
    "\n",
    "for i in range(len_mayor):\n",
    "   if (pal1_cop[i] == \"ñ\") and (ord(pal2_cop[i])<= ord(\"n\")):\n",
    "       pal_mayor=pal2\n",
    "       break\n",
    "   elif (pal2_cop[i] == \"ñ\") and (ord(pal1_cop[i])<= ord(\"n\")):\n",
    "       pal_mayor=pal1\n",
    "       break\n",
    "   elif pal1_cop[i] < pal2_cop[i]:\n",
    "       pal_mayor=pal1\n",
    "       break\n",
    "   elif pal1_cop[i] > pal2_cop[i]:\n",
    "       pal_mayor=pal1\n",
    "       break\n",
    "if pal_mayor:\n",
    "   print(\"la palabra que está primero en el diccionario es:\",{pal_mayor})  \n",
    "else:\n",
    "   print(\"las palabras son las mismas\")"
   ]
  },
  {
   "cell_type": "raw",
   "metadata": {},
   "source": [
    "\n",
    "#%% Ejercicio 13. Escribir un programa que lea una cadena de texto y la imprima como un triángulo.\n",
    "\n"
   ]
  },
  {
   "cell_type": "code",
   "execution_count": null,
   "metadata": {},
   "outputs": [],
   "source": [
    "# -*- coding: utf-8 -*-\n",
    "#-*- coding: 850 -*- # CARACTERES\n",
    "\n",
    "cadena = input('Digite la cadena de texto: ')\n",
    "\n",
    "# Se eliminan los espacios presentes en la cadena\n",
    "cadena = cadena.replace(' ', ' ')\n",
    "\n",
    "# Se determina el número de caracteres en la cadena\n",
    "num_caract = len(cadena)\n",
    "\n",
    "# Se determina el número de filas y el número máximo de caracteres por fila\n",
    "temp = 0                       # Variable auxiliar\n",
    "num_filas = 1                 \n",
    "while temp < num_caract:\n",
    "   temp += 2 * num_filas - 1\n",
    "   num_filas += 1\n",
    "\n",
    "num_max = 2 * num_filas - 1    # Número máximo de caracteres en una fila\n",
    "\n",
    "# Se imprime la cadena de texto\n",
    "aux_1 = 0        #Almacena la última posición en la que se imprime la fila i\n",
    "aux_2 = 0        #Cantidad de letras que se imprimen en la fila i\n",
    "contador = 0     # Verifica si luego de imprimir el triángulo aún quedan letras\n",
    "                # por imprimir\n",
    "\n",
    "for i in range(1,num_filas):\n",
    "   aux_2 += 2*i-1    \n",
    "   print(cadena[aux_1:aux_2].center(num_max,' '))\n",
    "   aux_1 = aux_2     \n",
    "   contador += 1\n",
    "  \n",
    "if contador != num_caract:\n",
    "   print(cadena[aux_2:].center(num_max,' '))"
   ]
  },
  {
   "cell_type": "raw",
   "metadata": {},
   "source": [
    "#%%Ejercicio 14 Leer una cadena de texto y organice alfabéticamente cada una de las letras\n",
    "#que la componen, repitiendo cada una tantas veces como se encuentra. \n",
    "#Por ejemplo, la cadena ‘tarea importante’ será ‘aaaeeimnoprrttt’. (Note que no se\n",
    "#incluyen los espacios"
   ]
  },
  {
   "cell_type": "code",
   "execution_count": null,
   "metadata": {},
   "outputs": [],
   "source": [
    "# -*- coding: utf-8 -*-\n",
    "#-*- coding: 850 -*- # CARACTERES\n",
    "\n",
    "x =str(input(\"Fvor ingresar la cadena = \")) #entrada de datos \n",
    "cadena = x # definimos una variable para cadena\n",
    "l=list(cadena)# la convertimos a lista \n",
    "ol=sorted(l) # organiamos la lista\n",
    "c=''.join(ol) # volvemos nuevamente una cadena \n",
    "print('la cadena organizada es =',c) # imprime cadena organizda"
   ]
  },
  {
   "cell_type": "code",
   "execution_count": null,
   "metadata": {},
   "outputs": [],
   "source": [
    "LISTAS "
   ]
  },
  {
   "cell_type": "raw",
   "metadata": {},
   "source": [
    "#%%Ejercicio 15. Leer una lista de números enteros y enumerar cuantos elementos se repiten\n",
    "#exactamente dos veces. Utilizar para tal fin el método count() de listas"
   ]
  },
  {
   "cell_type": "code",
   "execution_count": null,
   "metadata": {},
   "outputs": [],
   "source": [
    "# -*- coding: utf-8 -*-\n",
    "#-*- coding: 850 -*- # CARACTERES\n",
    "\n",
    "a = int(input(\"digite su numero:  \")) #entrada de datos \n",
    "b = str(a)\n",
    "            #condiciona para cada numero e imprimo si se cumple o no para cada uno de ellos \n",
    "if b.count(\"0\") == 2:\n",
    "    print (\"numero 0 : \" \"repetido exactamente 2 veces\")    \n",
    "else:\n",
    "    print (\"no hay numero 0 repetido numeros exactamente 2 veces\")\n",
    "if b.count(\"1\") == 2:\n",
    "    print (\"numero 1 : \" \"repetido exactamente 2 veces\")\n",
    "else:\n",
    "    print (\"no hay numero 1 repetido numeros exactamente 2 veces\")\n",
    "if b.count(\"2\") == 2:\n",
    "    print (\"numero 2 : \" \"repetido exactamente 2 veces\")\n",
    "else:\n",
    "    print (\"no hay numero 2 repetido numeros exactamente 2 veces\")\n",
    "if b.count(\"3\") == 2:\n",
    "    print (\"numero 3 : \"\"repetido exactamente 2 veces\")\n",
    "else:\n",
    "    print (\"no hay numero 3 repetido numeros exactamente 2 veces\")\n",
    "if b.count(\"4\") == 2:\n",
    "    print (\"numero 4 : \"\"repetido exactamente 2 veces\")\n",
    "else:\n",
    "    print (\"no hay numero 4 repetido numeros exactamente 2 veces\")\n",
    "if b.count(\"5\") == 2:\n",
    "    print (\"numero 5 : \" \"repetido exactamente 2 veces\")\n",
    "else:\n",
    "    print (\"no hay numero 5 repetido numeros exactamente 2 veces\")\n",
    "if b.count(\"6\") == 2:\n",
    "    print (\"numero 6 : \" \"repetido exactamente 2 veces\")\n",
    "else:\n",
    "    print (\"no hay numero 6 repetido numeros exactamente 2 veces\")\n",
    "if b.count(\"7\") == 2:\n",
    "    print (\"numero 7 : \" \"repetido exactamente 2 veces\")\n",
    "else:\n",
    "    print (\"no hay numero 7 repetido numeros exactamente 2 veces\")\n",
    "if b.count(\"8\") == 2:\n",
    "    print (\"numero 8 : \" \"repetido exactamente 2 veces\")\n",
    "else:\n",
    "    print (\"no hay numero 8 repetido numeros exactamente 2 veces\")\n",
    "if b.count(\"9\") == 2:\n",
    "    print (\"numero 8 : \" \"repetido exactamente 2 veces\")\n",
    "else:\n",
    "    print (\"no hay numero 9 repetido numeros exactamente 2 veces\")"
   ]
  },
  {
   "cell_type": "raw",
   "metadata": {},
   "source": [
    "#%% Ejercicio 16. Leer una lista de números ya ordenados de forma ascendente y verificar \n",
    "#que dicha lista está ordenada. Luego, leer un número e insertarlo en la lista \n",
    "#en la posición que le corresponde a dicho número.\n"
   ]
  },
  {
   "cell_type": "code",
   "execution_count": null,
   "metadata": {},
   "outputs": [],
   "source": [
    "x =list(input(\"Favor ingrse la lista de # ordenada acendentemente: \")) #entrada de datos \n",
    "lista = x\n",
    "if lista == sorted(lista) : #compara si la lista esta ordenada\n",
    "     print (\"lista esta ordenada: \") #imprime si esta ordenada\n",
    "else:\n",
    "    print (\"la lista no esta ordenada: \")#inmprime si no esta ordenada\n",
    "    \n",
    "y = (input(\"Favor ingrese el numero a ubicar: \")) #entrada de datos()adicion de numero\n",
    "\n",
    "lista.append(y) #añade el dato de la entrada anterior(y)\n",
    "\n",
    "lista.sort()#ordena la lista\n",
    "\n",
    "print (lista)#imprime la lista ordenada"
   ]
  },
  {
   "cell_type": "raw",
   "metadata": {},
   "source": [
    "#%%Ejercicio 17. Leer una lista y determinar cuál es el segundo elemento más grande\n",
    "#de dicha lista. No utilice ningún tipo de algoritmo de ordenamiento para realizar este ejercicio."
   ]
  },
  {
   "cell_type": "code",
   "execution_count": null,
   "metadata": {},
   "outputs": [],
   "source": [
    "x =list(input(\"ingrse la lista\")) #entrada de datos \n",
    "lista = x\n",
    "b = max (lista)  #encuentro el mayor de la lista\n",
    "lista.remove(b) #borro el mayor de la lista\n",
    "c = max (lista) #encuentro el mayor  de la lista ya borrado el primero\n",
    "                # \\ya borrado el primero seria el segundo mayor\n",
    "print (c)#imprimo el segundo mayor de la lista"
   ]
  },
  {
   "cell_type": "raw",
   "metadata": {},
   "source": [
    "#%% Ejercicio 18. Leer una matriz cuadrada A, obtener su matriz triangular superior\n",
    "#asociada U y determinar qué fila de U contiene lamayor cantidad de unos."
   ]
  },
  {
   "cell_type": "code",
   "execution_count": null,
   "metadata": {},
   "outputs": [],
   "source": [
    "import numpy as np\n",
    "#A=[[1,42,1,66],[10,1,92,1],[37,1,1,19],[1,72,1,1]]\n",
    "n=input('inserte numero de filas y columnas:')#se ingresa # de filas y columnas de A\n",
    "n=int(n)\n",
    "\n",
    "A=mn=np.zeros((n,n),int)#Matriz de ceros para guardar en A los valores ingresados\n",
    "\n",
    "a=[]\n",
    "for i in range(n):\n",
    "   c=input('Ingrese los {:-1} valores de la fila {:-1}:'.format(n, i)) #Insertar filas de A ,\n",
    "   for j in range(len(c)):   #número sin comillas, comas, puntos etc.\n",
    "      \n",
    "       A[i][j]=int(c[j])                   #Agregamos a A cada fila\n",
    "                                                                                                      #para guardar la list\n",
    "print(A)   #Mostrar A\n",
    "\n",
    "\n",
    "U=np.triu(A)    #Matriz triangular usando Numpy\n",
    "print(\"La matriz triangular superior es\")\n",
    "for i in range(len(U)):   #Mostrar U de A\n",
    "   print(U[i])\n",
    "  \n",
    "fu=[]  #para guardar las filas donde hay unos\n",
    "c=0     #contador en cero, incrementa cuando hay un 1\n",
    "t=False #suponemos que no hay 1\n",
    "for i in range(len(U)):\n",
    "   for j in range(len(U)):\n",
    "       if U[i][j]==1: \n",
    "           c=c+1     \n",
    "           t=True #si hay 1 t = True\n",
    "   fu.append(c)  #se agrega a fu la cantidad de 1 en cada fila\n",
    "   c=0 #cuando se contaron los 1 de cada fila, se reinicia en contador\n",
    "   #para contar los unos de la fila siguiente.\n",
    "\n",
    "\n",
    "if t is True:                    #Si hay unos \n",
    "   for i in range(len(fu)):     #buscamos\n",
    "       if fu[i]==max(fu):       #el máximo número de unos\n",
    "           print(\"La fila(s) que tiene mayor número de unos es la fila %s:\" %[i])\n",
    "else:\n",
    "   print(\"No hay unos en la fila\")  #Si no hay unos"
   ]
  },
  {
   "cell_type": "raw",
   "metadata": {},
   "source": [
    "#%% Ejercicio 19 Leer una lista e identifique la sublista más larga dentro de dicha lista \n",
    "#ue se encuentra ordenada ascendentemente"
   ]
  },
  {
   "cell_type": "code",
   "execution_count": null,
   "metadata": {},
   "outputs": [],
   "source": [
    "l =list(input(\"ingrese la lista\"))\n",
    "ll = []\n",
    "temp = l[0]\n",
    "ll.append(l[0])\n",
    "keyval = {}\n",
    "\n",
    "for x in range(0,len(l)):\n",
    "    if l[x] >= temp :\n",
    "        ll.append(l[x])\n",
    "        temp = l[x]\n",
    "#print (ll)\n",
    "    else:\n",
    "        keyval[len(ll)] = ll\n",
    "        ll=[]\n",
    "        temp = l[x]\n",
    "\n",
    "max_key = max(keyval.keys())\n",
    "print (keyval[max_key])\n"
   ]
  },
  {
   "cell_type": "raw",
   "metadata": {},
   "source": [
    " #%% Ejercicio 20 Hacer un programa que lea una matriz y la rote 90 grados en sentido\n",
    "#antihorario. Imprimir la matriz resultante."
   ]
  },
  {
   "cell_type": "code",
   "execution_count": null,
   "metadata": {},
   "outputs": [],
   "source": [
    "M = [] \n",
    "f_ = int(input('cantidad de filas ='))\n",
    "c_ = int(input('cantidad de columnas ='))\n",
    "\n",
    "for i in range(0,f_):\n",
    "  M.append([])\n",
    "for i in range(0,f_):# colocar valores de la Matriz\n",
    "    for j in range(0,c_):\n",
    "        M[i].append(j)\n",
    "        M[i][j]= 0\n",
    "for i in range (0,f_):\n",
    "  for j in range (0,c_):\n",
    "      print('datos para la fila', i+1,'datos para columna ', j+1)\n",
    "      M[i][j]= int(input())\n",
    "\n",
    "for array in M: print(array)\n",
    "import copy \n",
    "Mcopy = copy.deepcopy(M)\n",
    "size = len(M)\n",
    "for i in range (0, size):\n",
    "    for j in range(0,size):\n",
    "        M[i][j]= Mcopy[size -j-1][i]\n",
    " \n",
    "print(M)\n",
    "print(Mcopy)\n"
   ]
  },
  {
   "cell_type": "raw",
   "metadata": {},
   "source": [
    "#%%20. Hacer un programa que lea una matriz y la rote 90 grados en sentido\n",
    "#antihorario. Imprimir la matriz resultante. "
   ]
  },
  {
   "cell_type": "code",
   "execution_count": null,
   "metadata": {},
   "outputs": [],
   "source": [
    "M = [] \n",
    "f_ = int(input('cantidad de filas ='))\n",
    "c_ = int(input('cantidad de columnas ='))\n",
    "\n",
    "for i in range(0,f_):\n",
    "  M.append([])\n",
    "for i in range(0,f_):# colocar valores de la Matriz\n",
    "    for j in range(0,c_):\n",
    "        M[i].append(j)\n",
    "        M[i][j]= 0\n",
    "for i in range (0,f_):\n",
    "  for j in range (0,c_):\n",
    "      print('datos para la fila', i+1,'datos para columna ', j+1)\n",
    "      M[i][j]= int(input())\n",
    "\n",
    "for array in M: print(array)\n",
    "import copy \n",
    "Mcopy = copy.deepcopy(M)\n",
    "size = len(M)\n",
    "for i in range (0, size):\n",
    "    for j in range(0,size):\n",
    "        M[i][j]= Mcopy[size -j-1][i]\n",
    " \n",
    "print(M)\n",
    "print(Mcopy)"
   ]
  },
  {
   "cell_type": "code",
   "execution_count": null,
   "metadata": {},
   "outputs": [],
   "source": [
    "matriz  =  [[62, 42, 70, 66, 10],\n",
    "            [35, 10,  4, 92, 94],\n",
    "            [36, 37,  5,100, 19],\n",
    "            [79, 44, 72, 53, 91]]\n",
    "\n",
    "\n",
    "m = matriz        # m--> matriz de entrada\n",
    "\n",
    "\n",
    "## --Preparo las dimensiones de la matriz de salida mo\n",
    "mo = [None]*len(m[0])          #nro de columnas de m = nro de columnas mo\n",
    "for i in range(0,len(m[0])):\n",
    "    mo[i] = [None]*len(m)      #nro de filas de m = nro de columnas de mo\n",
    "\n",
    "for i in range(len(m)):\n",
    "    for j in range(-len(m[0]),0): # empiezo al revés para asegurar \n",
    "                                    #el giro antihorario\n",
    "        mo[-j-1][i] = m[i][j]    # indice de la fila no ascendente e indice \n",
    "                                #de la columna m descendente\n",
    "print()\n",
    "print(\"Matriz Original\") # matriz original\n",
    "for i in range(len(m)):\n",
    "    print(m[i])\n",
    "\n",
    "print()     # matriz rotada \n",
    "print(\"Matriz Rotada 90 grados en sentido antihorario\")\n",
    "for i in range(len(mo)):\n",
    "    print(mo[i])"
   ]
  },
  {
   "cell_type": "code",
   "execution_count": null,
   "metadata": {},
   "outputs": [],
   "source": [
    "matriz  = np.array([[62, 42, 70, 66, 10],\n",
    "                    [35, 10,  4, 92, 94],\n",
    "                    [36, 37,  5,100, 19],\n",
    "                    [79, 44, 72, 53, 91]])\n",
    "M = matriz\n",
    "\n",
    "Mo = (M.T).copy()          # Obtengo la matriz transpuesta\n",
    "\n",
    "for i in range(Mo.shape[0]):\n",
    "    Mo[-(i+1),:] = M[:,i].copy()   # Invierto sus columnas\n",
    "\n",
    "    \n",
    "print(\"Matriz Original\")\n",
    "print(M)\n",
    "print(\"Matriz Rotada 90 grados en sentido antihorario\")\n",
    "print(Mo)\n"
   ]
  },
  {
   "cell_type": "code",
   "execution_count": null,
   "metadata": {},
   "outputs": [],
   "source": []
  },
  {
   "cell_type": "code",
   "execution_count": null,
   "metadata": {},
   "outputs": [],
   "source": []
  },
  {
   "cell_type": "code",
   "execution_count": null,
   "metadata": {},
   "outputs": [],
   "source": []
  }
 ],
 "metadata": {
  "kernelspec": {
   "display_name": "Python 3",
   "language": "python",
   "name": "python3"
  },
  "language_info": {
   "codemirror_mode": {
    "name": "ipython",
    "version": 3
   },
   "file_extension": ".py",
   "mimetype": "text/x-python",
   "name": "python",
   "nbconvert_exporter": "python",
   "pygments_lexer": "ipython3",
   "version": "3.6.7"
  }
 },
 "nbformat": 4,
 "nbformat_minor": 2
}
